{
 "cells": [
  {
   "cell_type": "markdown",
   "metadata": {
    "vscode": {
     "languageId": "plaintext"
    }
   },
   "source": [
    "# Part 1: Lists and List Slicing (20 points)"
   ]
  },
  {
   "cell_type": "markdown",
   "metadata": {},
   "source": [
    "### Question 1\n",
    "1. Create a list of 10 integers ranging from 1 to 20. Then, do the following:\n",
    "   - Extract and print the first 5 elements of the list.\n",
    "   - Extract and print the last 3 elements using negative indexing.\n",
    "   - Extract and print all elements from index 3 to index 7.\n"
   ]
  },
  {
   "cell_type": "code",
   "execution_count": 12,
   "metadata": {},
   "outputs": [],
   "source": [
    "integerNumbers = [1,3,5,7,9,11,13,15,17,19]\n",
    "firstFiveElements = integerNumbers[:6]\n",
    "lastThreeElements = integerNumbers[-3:]\n",
    "specificRange = integerNumbers[3:8]"
   ]
  },
  {
   "cell_type": "markdown",
   "metadata": {},
   "source": [
    "### Question 2\n",
    "2. Write a Python program that:\n",
    "   - Creates a list of 5 different fruits.\n",
    "   - Add two more fruits to the list.\n",
    "   - Remove the last fruit in the list.\n",
    "   - Print the updated list.\n"
   ]
  },
  {
   "cell_type": "code",
   "execution_count": 45,
   "metadata": {},
   "outputs": [
    {
     "name": "stdout",
     "output_type": "stream",
     "text": [
      "This is the List After appending:\n",
      "['Mango', 'Strawberry', 'Watermelon', 'Banana', 'Apple', 'Orange', 'pineapple']\n",
      "\n",
      "This is the List After removing:\n",
      "['Mango', 'Strawberry', 'Watermelon', 'Banana', 'Apple', 'Orange']\n"
     ]
    }
   ],
   "source": [
    "fruitList = [\"Mango\",\"Strawberry\",\"Watermelon\",\"Banana\",\"Apple\"]\n",
    "fruitList.append(\"Orange\")\n",
    "fruitList.append(\"pineapple\")\n",
    "print(f\"This is the List After appending:\\n{fruitList}\\n\")\n",
    "del fruitList[-1]\n",
    "print(f\"This is the List After removing:\\n{fruitList}\")"
   ]
  },
  {
   "cell_type": "markdown",
   "metadata": {},
   "source": [
    "# Part 2: Tuples and Dictionaries (30 points)"
   ]
  },
  {
   "cell_type": "markdown",
   "metadata": {},
   "source": [
    "### Question 3\n",
    "3. Create a tuple that contains 5 different cities.\n",
    "   - Access and print the second city in the tuple.\n",
    "   - Try to change the value of the second city in the tuple and explain why it does not work.\n"
   ]
  },
  {
   "cell_type": "code",
   "execution_count": null,
   "metadata": {},
   "outputs": [
    {
     "name": "stdout",
     "output_type": "stream",
     "text": [
      "The second City in the tuple is : New York\n",
      "The code Threw Type error because elements in tuple can not be modified. Error: 'tuple' object does not support item assignment\n"
     ]
    }
   ],
   "source": [
    "citiesTuple = (\"seville\",\"New York\",\"Cairo\",\"Paris\",\"Rome\") \n",
    "print(f\"The second City in the tuple is : {citiesTuple[1]}\")\n",
    "try:\n",
    "    citiesTuple[1] = \"Madrid\"\n",
    "except TypeError as e:\n",
    "    print(f\"The code Threw Type error because elements in tuple can not be modified. Error: {e}\")"
   ]
  },
  {
   "cell_type": "markdown",
   "metadata": {},
   "source": [
    "### Question 4\n",
    "4. Write a Python program that creates a dictionary with the following keys and values:\n",
    "   - 'name': 'John', 'age': 30, 'city': 'New York'.\n",
    "   - Print the value of the 'age' key.\n",
    "   - Add a new key-value pair 'job': 'Engineer' to the dictionary.\n",
    "   - Remove the 'city' key and print the updated dictionary.\n"
   ]
  },
  {
   "cell_type": "code",
   "execution_count": null,
   "metadata": {},
   "outputs": [
    {
     "name": "stdout",
     "output_type": "stream",
     "text": [
      "The age : 30\n",
      "Your personal Data : {'name': 'John', 'age': 30, 'job': 'Engineer'}\n"
     ]
    }
   ],
   "source": [
    "personalData = {'name': 'John', 'age': 30, 'city': 'New York'}\n",
    "print(f\"The age : {personalData['age']}\")\n",
    "personalData[\"job\"] = 'Engineer'\n",
    "del personalData[\"city\"]\n",
    "print(f\"Your personal Data : {personalData}\")\n",
    "\n",
    "\n"
   ]
  },
  {
   "cell_type": "markdown",
   "metadata": {},
   "source": [
    "### Question 5\n",
    "5. Write a Python program that:\n",
    "   - Creates a dictionary to store the names and ages of 3 people.\n",
    "   - Print each person's name and their corresponding age using a loop.\n"
   ]
  },
  {
   "cell_type": "code",
   "execution_count": 44,
   "metadata": {},
   "outputs": [
    {
     "name": "stdout",
     "output_type": "stream",
     "text": [
      "Omar : 30 years old\n",
      "Joe : 20 years old\n",
      "Zeyad : 22 years old\n"
     ]
    }
   ],
   "source": [
    "namesDict = {'Names':[\"Omar\",\"Joe\",\"Zeyad\"],'Age':[30,20,22]}\n",
    "for i in range(len(namesDict[\"Names\"])):\n",
    "    print(f\"{namesDict[\"Names\"][i]} : {namesDict[\"Age\"][i]} years old\")"
   ]
  },
  {
   "cell_type": "markdown",
   "metadata": {},
   "source": [
    "# Part 3: Conditional Statements (30 points)"
   ]
  },
  {
   "cell_type": "markdown",
   "metadata": {},
   "source": [
    "### Question 6\n",
    "6. Write a Python program that takes the user's age as input and prints:\n",
    "   - 'Adult' if the age is 18 or older.\n",
    "   - 'Minor' if the age is less than 18.\n"
   ]
  },
  {
   "cell_type": "code",
   "execution_count": 7,
   "metadata": {},
   "outputs": [
    {
     "name": "stdout",
     "output_type": "stream",
     "text": [
      "Minor\n"
     ]
    }
   ],
   "source": [
    "age =int(input(\"How old are you? \"))\n",
    "if age >=18:\n",
    "    print(\"Adult\")\n",
    "elif age<=0 or age <=18 :\n",
    "    print(\"Minor\")\n",
    "else:\n",
    "    print(\"Enter a valid age\")"
   ]
  },
  {
   "cell_type": "markdown",
   "metadata": {},
   "source": [
    "### Question 7\n",
    "7. Write a Python program that checks if a number entered by the user is:\n",
    "   - 'Even' if it is divisible by 2.\n",
    "   - 'Odd' if it is not divisible by 2.\n",
    "   Use an if-else statement for this task.\n"
   ]
  },
  {
   "cell_type": "code",
   "execution_count": null,
   "metadata": {},
   "outputs": [
    {
     "name": "stdout",
     "output_type": "stream",
     "text": [
      "Odd\n"
     ]
    }
   ],
   "source": [
    "number =int(input(\"Enter a number : \"))\n",
    "if(number%2 == 0):\n",
    "    print(\"Even\")\n",
    "else:\n",
    "    print(\"Odd\")"
   ]
  },
  {
   "cell_type": "markdown",
   "metadata": {},
   "source": [
    "### Question 8\n",
    "8. Write a Python program that takes a score from the user and prints the grade based on the following criteria:\n",
    "   - 90 and above: 'A'\n",
    "   - 70-89: 'B'\n",
    "   - 50-69: 'C'\n",
    "   - Below 50: 'F'.\n"
   ]
  },
  {
   "cell_type": "code",
   "execution_count": 23,
   "metadata": {},
   "outputs": [
    {
     "name": "stdout",
     "output_type": "stream",
     "text": [
      "F\n"
     ]
    }
   ],
   "source": [
    "score = float(input(\"Enter your grade : \"))\n",
    "if 100<=score or score <=0:\n",
    "    print(\"Invalid Grade\")\n",
    "elif score >=90:\n",
    "    print(\"A\")\n",
    "elif score >=79:\n",
    "    print(\"B\")\n",
    "elif score >=50:\n",
    "    print(\"C\")\n",
    "elif score <50:\n",
    "    print(\"F\")\n",
    "    "
   ]
  },
  {
   "cell_type": "markdown",
   "metadata": {},
   "source": [
    "# Part 4: Loops (30 points)"
   ]
  },
  {
   "cell_type": "markdown",
   "metadata": {},
   "source": [
    "### Question 9\n",
    "9. Write a Python program that uses a for loop to print all even numbers between 1 and 20.\n"
   ]
  },
  {
   "cell_type": "code",
   "execution_count": 29,
   "metadata": {},
   "outputs": [
    {
     "name": "stdout",
     "output_type": "stream",
     "text": [
      "2\n",
      "4\n",
      "6\n",
      "8\n",
      "10\n",
      "12\n",
      "14\n",
      "16\n",
      "18\n",
      "20\n"
     ]
    }
   ],
   "source": [
    "for evenNumber in range(2,21,2):\n",
    "    print(evenNumber)\n"
   ]
  },
  {
   "cell_type": "markdown",
   "metadata": {},
   "source": [
    "### Question 10\n",
    "10. Write a Python program that uses a while loop to print the numbers from 10 to 1, in descending order.\n"
   ]
  },
  {
   "cell_type": "code",
   "execution_count": 31,
   "metadata": {},
   "outputs": [
    {
     "name": "stdout",
     "output_type": "stream",
     "text": [
      "10 9 8 7 6 5 4 3 2 1 "
     ]
    }
   ],
   "source": [
    "number=10\n",
    "while(number>0):\n",
    "    print(number,end=\" \")\n",
    "    number-=1"
   ]
  },
  {
   "cell_type": "markdown",
   "metadata": {},
   "source": [
    "### Question 11\n",
    "11. Write a Python program that:\n",
    "    - Asks the user to input a number.\n",
    "    - Then, using a for loop, calculates the sum of all numbers from 1 to the entered number (inclusive) and prints the result.\n"
   ]
  },
  {
   "cell_type": "code",
   "execution_count": 33,
   "metadata": {},
   "outputs": [
    {
     "name": "stdout",
     "output_type": "stream",
     "text": [
      "The summation from 1 to 10 is : 55\n"
     ]
    }
   ],
   "source": [
    "number =int(input(\"Enter a number : \"))\n",
    "summation =0\n",
    "for n in range(1,number+1):\n",
    "    summation += n\n",
    "print(f\"The summation from 1 to {number} is : {summation}\")"
   ]
  },
  {
   "cell_type": "markdown",
   "metadata": {},
   "source": [
    "# Part 5: Input Function and User Interaction (20 points)"
   ]
  },
  {
   "cell_type": "markdown",
   "metadata": {},
   "source": [
    "### Question 12\n",
    "12. Write a Python program that asks the user for their name and age, then prints a message saying: \"Hello, [name]! You are [age] years old.\"\n"
   ]
  },
  {
   "cell_type": "code",
   "execution_count": 34,
   "metadata": {},
   "outputs": [
    {
     "name": "stdout",
     "output_type": "stream",
     "text": [
      "Hello, ucef! You are 21 years old.\n"
     ]
    }
   ],
   "source": [
    "name =input(\"What is your name?  \")\n",
    "age =int(input(\"how old are you? \"))\n",
    "print(f\"Hello, {name}! You are {age} years old.\")\n"
   ]
  },
  {
   "cell_type": "markdown",
   "metadata": {},
   "source": [
    "### Question 13\n",
    "13. Write a Python program that asks the user for their favorite color and checks if it is 'blue'.\n",
    "    - If it is, print \"You have great taste!\"\n",
    "    - Otherwise, print \"That's a nice color too!\"\n"
   ]
  },
  {
   "cell_type": "code",
   "execution_count": 37,
   "metadata": {},
   "outputs": [
    {
     "name": "stdout",
     "output_type": "stream",
     "text": [
      "That's a nice color too!\n"
     ]
    }
   ],
   "source": [
    "favouriteColor =input(\"What is your Favourite Color? \")\n",
    "if (favouriteColor.lower() == \"blue\"):\n",
    "    print(\"You have great taste!\")\n",
    "else:\n",
    "    print(\"That's a nice color too!\")\n"
   ]
  },
  {
   "cell_type": "markdown",
   "metadata": {},
   "source": [
    "# Bonus Question (10 points)"
   ]
  },
  {
   "cell_type": "markdown",
   "metadata": {},
   "source": [
    "### Question 14\n",
    "14. Write a Python program that asks the user to enter a list of 5 numbers.\n",
    "    - Calculate and print the average of the numbers.\n",
    "    - Print the largest and smallest numbers from the list.\n"
   ]
  },
  {
   "cell_type": "code",
   "execution_count": null,
   "metadata": {},
   "outputs": [
    {
     "name": "stdout",
     "output_type": "stream",
     "text": [
      "The Average of these Numbers is : 2.8\n",
      "The Maximum of these Numbers is : 6.0\n",
      "The Minimum of these Numbers is : -7.0\n"
     ]
    }
   ],
   "source": [
    "numbersList =[]\n",
    "for i in range(0,5):\n",
    "    try:\n",
    "        numbersList.append(float(input(f\"Enter Number {i+1}: \")))\n",
    "    except Exception as e:\n",
    "        print(f\"Please enter valid number!! Error: {type(e)}{e}\")\n",
    "average = sum(numbersList)/len(numbersList)\n",
    "print(f\"The Average of these Numbers is : {average}\")\n",
    "print(f\"The Maximum of these Numbers is : {max(numbersList)}\")\n",
    "print(f\"The Minimum of these Numbers is : {min(numbersList)}\")\n"
   ]
  }
 ],
 "metadata": {
  "kernelspec": {
   "display_name": "base",
   "language": "python",
   "name": "python3"
  },
  "language_info": {
   "codemirror_mode": {
    "name": "ipython",
    "version": 3
   },
   "file_extension": ".py",
   "mimetype": "text/x-python",
   "name": "python",
   "nbconvert_exporter": "python",
   "pygments_lexer": "ipython3",
   "version": "3.12.7"
  }
 },
 "nbformat": 4,
 "nbformat_minor": 2
}
