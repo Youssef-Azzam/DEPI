{
 "cells": [
  {
   "cell_type": "markdown",
   "id": "86ee3c7c",
   "metadata": {},
   "source": [
    "## Section 1: Printing Messages"
   ]
  },
  {
   "cell_type": "markdown",
   "id": "eebc6dfc",
   "metadata": {},
   "source": [
    "1. Write a Python program to print the following message on the screen:\n",
    "\"Hello, Python learners! Today we start our coding journey.\"\n",
    "\n",
    "Challenge: Print a multi-line message using triple quotes that includes your name and favorite programming language."
   ]
  },
  {
   "cell_type": "code",
   "execution_count": 1,
   "id": "cb3dd0a4",
   "metadata": {},
   "outputs": [
    {
     "name": "stdout",
     "output_type": "stream",
     "text": [
      "Hello World\n"
     ]
    }
   ],
   "source": [
    "print(\"Hello World\")"
   ]
  },
  {
   "cell_type": "markdown",
   "id": "e2976ce0",
   "metadata": {},
   "source": [
    "## Section 2: Variables and Data Types"
   ]
  },
  {
   "cell_type": "markdown",
   "id": "7293affe",
   "metadata": {},
   "source": [
    "1. Create a variable called age and assign it your age. Print a message that says, \"I am [age] years old.\"\n",
    "\n",
    "Challenge: Create three variables of different data types (integer, float, and string). Print each variable with a description of its data type."
   ]
  },
  {
   "cell_type": "code",
   "execution_count": null,
   "id": "29989b9e",
   "metadata": {},
   "outputs": [
    {
     "name": "stdout",
     "output_type": "stream",
     "text": [
      "upper: YOUSSEF AZZAM \n",
      "lower: youssef azzam\n"
     ]
    }
   ],
   "source": [
    "first_Name = \"Youssef\"\n",
    "last_Name= \"Azzam\"\n",
    "full_Name = first_Name + \" \" + last_Name\n",
    "print(f\"upper: {full_Name.upper()} \\n lower: {full_Name.lower()}\")"
   ]
  },
  {
   "cell_type": "markdown",
   "id": "b1d0347b",
   "metadata": {},
   "source": [
    "## Section 3: Working with Strings"
   ]
  },
  {
   "cell_type": "markdown",
   "id": "24dd06a1",
   "metadata": {},
   "source": [
    "1. Given the string text = \"Python is amazing\", write a program to extract and print the word \"amazing\" from it.\n",
    "\n",
    "Challenge: Concatenate two strings, first_name and last_name, with a space in between, and print the full name in uppercase."
   ]
  },
  {
   "cell_type": "code",
   "execution_count": 6,
   "id": "0c470a4e",
   "metadata": {},
   "outputs": [
    {
     "name": "stdout",
     "output_type": "stream",
     "text": [
      "Hello, Python learners! Today we start our coding journey.\n"
     ]
    }
   ],
   "source": [
    "print(\"Hello, Python learners! Today we start our coding journey.\")"
   ]
  },
  {
   "cell_type": "markdown",
   "id": "72021f38",
   "metadata": {},
   "source": [
    "## Section 4: Basic Operations"
   ]
  },
  {
   "cell_type": "markdown",
   "id": "8390b57f",
   "metadata": {},
   "source": [
    "1. Write a program to calculate the area of a rectangle with a width of 5 and a height of 10.\n",
    "\n",
    "Challenge: Create two numbers, a = 20 and b = 7, and print the result of each arithmetic operation: addition, subtraction, multiplication, division, and modulo."
   ]
  },
  {
   "cell_type": "code",
   "execution_count": 31,
   "id": "8c757929",
   "metadata": {},
   "outputs": [
    {
     "name": "stdout",
     "output_type": "stream",
     "text": [
      "\n",
      "        I am youssef Azzam\n",
      "      My Favorite programming language is C++\n"
     ]
    }
   ],
   "source": [
    "print(\"\"\"\n",
    "        I am youssef Azzam\n",
    "      My Favorite programming language is C++\"\"\")"
   ]
  },
  {
   "cell_type": "markdown",
   "id": "ec93ff80",
   "metadata": {},
   "source": [
    "## Section 5: Lists and Tuples"
   ]
  },
  {
   "cell_type": "markdown",
   "id": "f2ccd77f",
   "metadata": {},
   "source": [
    "1. Create a list of five of your favorite foods. Print the entire list, then print the third item in the list.\n",
    "\n",
    "Challenge: Convert the list into a tuple, and try to change the first item in the tuple. Observe and explain the result."
   ]
  },
  {
   "cell_type": "code",
   "execution_count": 32,
   "id": "1f816a53",
   "metadata": {},
   "outputs": [
    {
     "name": "stdout",
     "output_type": "stream",
     "text": [
      "The DataType of this variable age is <class 'int'>.\n",
      "The DataType of this variable ageFloat is <class 'float'>.\n",
      "The DataType of this variable ageString is <class 'str'>.\n"
     ]
    }
   ],
   "source": [
    "age = 21\n",
    "ageFloat= 21.5\n",
    "ageString=\"22\"\n",
    "print(f\"The DataType of this variable age is {type(age)}.\")\n",
    "print(f\"The DataType of this variable ageFloat is {type(ageFloat)}.\")\n",
    "print(f\"The DataType of this variable ageString is {type(ageString)}.\")"
   ]
  },
  {
   "cell_type": "markdown",
   "id": "2012e24a",
   "metadata": {},
   "source": [
    "## Section 6: String Manipulation and Slicing"
   ]
  },
  {
   "cell_type": "markdown",
   "id": "3a3973a4",
   "metadata": {},
   "source": [
    "1. Given the string sentence = \"Learning Python is fun!\", write a program to slice and print the word \"Python\" from it.\n",
    "\n",
    "Challenge: Replace the word \"fun\" with \"awesome\" in the sentence and print the new sentence."
   ]
  },
  {
   "cell_type": "code",
   "execution_count": 33,
   "id": "39b11e69",
   "metadata": {},
   "outputs": [
    {
     "name": "stdout",
     "output_type": "stream",
     "text": [
      "amazing\n"
     ]
    }
   ],
   "source": [
    "text = \"Python is amazing\"\n",
    "index = text.find('amazing')\n",
    "print(text[index:])"
   ]
  },
  {
   "cell_type": "markdown",
   "id": "f9841c93",
   "metadata": {},
   "source": [
    "## Section 7: Dictionaries"
   ]
  },
  {
   "cell_type": "markdown",
   "id": "1844d21e",
   "metadata": {},
   "source": [
    "1. Create a dictionary called student with the keys name, age, and grade. Assign values to each key and print the dictionary.\n",
    "\n",
    "Challenge: Add a new key city to the dictionary and set it to any city name. Print the updated dictionary."
   ]
  },
  {
   "cell_type": "code",
   "execution_count": 34,
   "id": "b4767cfa",
   "metadata": {},
   "outputs": [
    {
     "name": "stdout",
     "output_type": "stream",
     "text": [
      "Area : 50\n",
      "Sum : 27\n",
      "Subtraction : 13\n",
      "Multiplication : 140\n",
      "Dividion : 2.857142857142857\n",
      "modulo : 6\n"
     ]
    }
   ],
   "source": [
    "width= 5\n",
    "height =10\n",
    "area = width * height\n",
    "print(f\"Area : {area}\")\n",
    "a =20\n",
    "b=7\n",
    "print(f\"Sum : {a+b}\")\n",
    "print(f\"Subtraction : {a-b}\")\n",
    "print(f\"Multiplication : {a*b}\")\n",
    "print(f\"Dividion : {a/b}\")\n",
    "print(f\"modulo : {a%b}\")"
   ]
  },
  {
   "cell_type": "markdown",
   "id": "f5963a6f",
   "metadata": {},
   "source": [
    "## Section 8: Basic Arithmetic Operations"
   ]
  },
  {
   "cell_type": "markdown",
   "id": "64de3b21",
   "metadata": {},
   "source": [
    "1. Write a program that takes two numbers from the user and prints their sum, difference, product, and division result.\n",
    "\n",
    "Challenge: Use the modulo operator to check if the first number is divisible by the second number, and print the result as \"Divisible\" or \"Not Divisible\"."
   ]
  },
  {
   "cell_type": "code",
   "execution_count": 1,
   "id": "f7f8dbd6",
   "metadata": {},
   "outputs": [
    {
     "name": "stdout",
     "output_type": "stream",
     "text": [
      "['koshri', 'pizza', 'piccata', '7waw4i', 'mac and cheese']\n",
      "piccata\n",
      "('koshri', 'pizza', 'piccata', '7waw4i', 'mac and cheese')\n",
      "Tuple is immutable data structure which can not be modified!!\n"
     ]
    }
   ],
   "source": [
    "favouritreFood =[\"koshri\",\"pizza\",\"piccata\",\"7waw4i\",\"mac and cheese\"]\n",
    "print(favouritreFood)\n",
    "print(favouritreFood[2])\n",
    "favouritreFood_tuple=tuple(favouritreFood)\n",
    "print(favouritreFood_tuple)\n",
    "try:\n",
    "    favouritreFood_tuple[0]=\"new_food\"\n",
    "except TypeError:\n",
    "    print(\"Tuple is immutable data structure which can not be modified!!\")\n",
    "except Exception as e:\n",
    "    print(\"the code this error {e}\")\n",
    "\n",
    "\n"
   ]
  }
 ],
 "metadata": {
  "kernelspec": {
   "display_name": "Python 3",
   "language": "python",
   "name": "python3"
  },
  "language_info": {
   "codemirror_mode": {
    "name": "ipython",
    "version": 3
   },
   "file_extension": ".py",
   "mimetype": "text/x-python",
   "name": "python",
   "nbconvert_exporter": "python",
   "pygments_lexer": "ipython3",
   "version": "3.12.6"
  }
 },
 "nbformat": 4,
 "nbformat_minor": 5
}
