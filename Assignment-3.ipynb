{
 "cells": [
  {
   "cell_type": "markdown",
   "metadata": {},
   "source": [
    "## Python Task 3"
   ]
  },
  {
   "cell_type": "markdown",
   "metadata": {},
   "source": [
    "### Question: Count Vowels in a String\n",
    "\n",
    "**Description:** Write a function named count_vowels that takes a string as an argument and returns the count of vowels (a, e, i, o, u) in the string. \n",
    "\n",
    "The function should be case-insensitive, counting both uppercase and lowercase vowels.\n"
   ]
  },
  {
   "cell_type": "code",
   "execution_count": 7,
   "metadata": {},
   "outputs": [
    {
     "name": "stdout",
     "output_type": "stream",
     "text": [
      "\"An Apple A dAy keeps the doctOr AwAy.\" : [5, 7]\n",
      "\"Eager Elephants enjoy Eating Early Evenings.\" : [11, 5]\n",
      "\"Imagine Unicorns Under the Umbrella In Utah.\" : [10, 6]\n",
      "\"OvercOOked Oranges Often Omit an Odd Odor.\" : [8, 8]\n",
      "\"Underneath the mOOnlit sky, Umbrellas Unite Us.\" : [9, 6]\n",
      "\"A Unique Idea can Inspire an EntIrE generatIon.\" : [13, 8]\n",
      "\"Every OpportunIty InvItes a chOIce Of actIon.\" : [8, 9]\n",
      "\"Igloos On Ice Offer Quiet Encounters wIth UnIqUeness.\" : [12, 9]\n",
      "\"OverpOwering AmbitIOn Opens Unseen dOOrs.\" : [7, 9]\n",
      "\"Umbrellas Are Often Useful Under Unexpected cOndItIOns.\" : [10, 10]\n"
     ]
    }
   ],
   "source": [
    "def count_vowels(Text):\n",
    "    upperCount = 0\n",
    "    lowerCount = 0\n",
    "    for char in Text:\n",
    "        if char.lower() in (\"a\",\"e\",\"i\",\"o\",\"u\"):\n",
    "            if char.islower():\n",
    "                lowerCount+=1\n",
    "            else:\n",
    "                upperCount+=1\n",
    "    return  [lowerCount,upperCount]\n",
    "\n",
    "#Testing\n",
    "sentences = [\n",
    "    \"An Apple A dAy keeps the doctOr AwAy.\",\n",
    "    \"Eager Elephants enjoy Eating Early Evenings.\",\n",
    "    \"Imagine Unicorns Under the Umbrella In Utah.\",\n",
    "    \"OvercOOked Oranges Often Omit an Odd Odor.\",\n",
    "    \"Underneath the mOOnlit sky, Umbrellas Unite Us.\",\n",
    "    \"A Unique Idea can Inspire an EntIrE generatIon.\",\n",
    "    \"Every OpportunIty InvItes a chOIce Of actIon.\",\n",
    "    \"Igloos On Ice Offer Quiet Encounters wIth UnIqUeness.\",\n",
    "    \"OverpOwering AmbitIOn Opens Unseen dOOrs.\",\n",
    "    \"Umbrellas Are Often Useful Under Unexpected cOndItIOns.\"\n",
    "]\n",
    "\n",
    "i=0\n",
    "for n in sentences:\n",
    "    print(f\"\\\"{sentences[i]}\\\" : {count_vowels(n)}\")\n",
    "    i+=1\n",
    "          \n",
    "\n"
   ]
  },
  {
   "cell_type": "markdown",
   "metadata": {},
   "source": [
    "### Question: Find the Maximum Value in a List Using a Function\n",
    "Description: Write a function named find_max that takes a list of integers as an argument and returns the maximum value in the list. \n",
    "\n",
    "Do not use Python’s built-in max() function. The function should handle cases where the list is empty by returning None.\n"
   ]
  },
  {
   "cell_type": "code",
   "execution_count": 9,
   "metadata": {},
   "outputs": [
    {
     "name": "stdout",
     "output_type": "stream",
     "text": [
      "10\n"
     ]
    }
   ],
   "source": [
    "def find_max(numbers):\n",
    "    biggest = numbers[0]\n",
    "    for i in numbers:\n",
    "        if i> biggest:\n",
    "            biggest =i\n",
    "    return biggest\n",
    "\n",
    "print(find_max([8,4,5,10,6]))"
   ]
  },
  {
   "cell_type": "code",
   "execution_count": null,
   "metadata": {},
   "outputs": [],
   "source": []
  }
 ],
 "metadata": {
  "kernelspec": {
   "display_name": "base",
   "language": "python",
   "name": "python3"
  },
  "language_info": {
   "codemirror_mode": {
    "name": "ipython",
    "version": 3
   },
   "file_extension": ".py",
   "mimetype": "text/x-python",
   "name": "python",
   "nbconvert_exporter": "python",
   "pygments_lexer": "ipython3",
   "version": "3.12.7"
  }
 },
 "nbformat": 4,
 "nbformat_minor": 2
}
